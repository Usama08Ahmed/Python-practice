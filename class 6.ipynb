{
 "cells": [
  {
   "cell_type": "markdown",
   "metadata": {},
   "source": [
    "# NESTED LOOP"
   ]
  },
  {
   "cell_type": "code",
   "execution_count": null,
   "metadata": {},
   "outputs": [],
   "source": [
    "initialtnum = int(input(\"Enter range of tables\"))\n",
    "finaltnum = int(input(\"End of tables\"))\n",
    "\n",
    "for tnum in range(initialtnum,finaltnum+1):\n",
    "    print (\"_______________\")\n",
    "    for num in range (1,11):\n",
    "        if num ==6:\n",
    "            continue\n",
    "        print (f\"{tnum} * {num} = {tnum*num}\")\n"
   ]
  },
  {
   "cell_type": "code",
   "execution_count": null,
   "metadata": {},
   "outputs": [],
   "source": [
    "a = (\"a\", 2 , True) #packing\n",
    "b = {\"a\", 4, False} #packing"
   ]
  },
  {
   "cell_type": "code",
   "execution_count": null,
   "metadata": {},
   "outputs": [],
   "source": [
    "ss,dd,ff = a"
   ]
  },
  {
   "cell_type": "code",
   "execution_count": null,
   "metadata": {},
   "outputs": [],
   "source": [
    "ss"
   ]
  },
  {
   "cell_type": "code",
   "execution_count": null,
   "metadata": {},
   "outputs": [],
   "source": [
    "dd"
   ]
  },
  {
   "cell_type": "code",
   "execution_count": null,
   "metadata": {},
   "outputs": [],
   "source": [
    "ff"
   ]
  },
  {
   "cell_type": "code",
   "execution_count": null,
   "metadata": {},
   "outputs": [],
   "source": [
    "ff"
   ]
  },
  {
   "cell_type": "code",
   "execution_count": null,
   "metadata": {},
   "outputs": [],
   "source": [
    "dd = a"
   ]
  },
  {
   "cell_type": "code",
   "execution_count": null,
   "metadata": {},
   "outputs": [],
   "source": [
    "dd"
   ]
  },
  {
   "cell_type": "code",
   "execution_count": null,
   "metadata": {},
   "outputs": [],
   "source": [
    "dd"
   ]
  },
  {
   "cell_type": "code",
   "execution_count": null,
   "metadata": {},
   "outputs": [],
   "source": [
    "topping_list= [\"Pepperoni\",\"Mushrooms\",\"Onions\",\"Sausage\"]\n",
    "pizza_size = input(\"Enter size of pizza in inches \")\n",
    "pizza_flav = input(\"Enter flav \")\n",
    "topping = input (\"Toppings \")\n",
    "\n",
    "flag = True\n",
    "while flag:\n",
    "    topping= input(\"Enter your topping \")\n",
    "    if topping ==\"q\":\n",
    "            flag = False\n",
    "    if topping in topping_list:\n",
    "        print (f\"Your Pizza size is {pizza_size} and your flv and topping is {pizza_flav} {topping}\")\n",
    "    else:\n",
    "        print (\"Sorry we don't have that flav\")\n"
   ]
  },
  {
   "cell_type": "code",
   "execution_count": 5,
   "metadata": {},
   "outputs": [
    {
     "name": "stdout",
     "output_type": "stream",
     "text": [
      "Enter size of pizza 8\n",
      "Enter flavour tikka\n",
      "Enter topping Onions\n",
      "already added\n",
      "Enter topping q\n"
     ]
    },
    {
     "ename": "NameError",
     "evalue": "name 'user_topping' is not defined",
     "output_type": "error",
     "traceback": [
      "\u001b[1;31m---------------------------------------------------------------------------\u001b[0m",
      "\u001b[1;31mNameError\u001b[0m                                 Traceback (most recent call last)",
      "\u001b[1;32m<ipython-input-5-03f6b2563dcd>\u001b[0m in \u001b[0;36m<module>\u001b[1;34m\u001b[0m\n\u001b[0;32m     13\u001b[0m     \u001b[1;32mif\u001b[0m \u001b[0mtopping\u001b[0m \u001b[1;32min\u001b[0m \u001b[0muser_toppings\u001b[0m\u001b[1;33m:\u001b[0m\u001b[1;33m\u001b[0m\u001b[1;33m\u001b[0m\u001b[0m\n\u001b[0;32m     14\u001b[0m             \u001b[0mprint\u001b[0m\u001b[1;33m(\u001b[0m\u001b[1;34m\"already added\"\u001b[0m\u001b[1;33m)\u001b[0m\u001b[1;33m\u001b[0m\u001b[1;33m\u001b[0m\u001b[0m\n\u001b[1;32m---> 15\u001b[1;33m \u001b[0mprint\u001b[0m \u001b[1;33m(\u001b[0m\u001b[1;34mf\"Your order of pizza with size {size} and flavour {flavour} with topping {user_topping}\"\u001b[0m\u001b[1;33m)\u001b[0m\u001b[1;33m\u001b[0m\u001b[1;33m\u001b[0m\u001b[0m\n\u001b[0m",
      "\u001b[1;31mNameError\u001b[0m: name 'user_topping' is not defined"
     ]
    }
   ],
   "source": [
    "available_toppings = [\"Macroni\", \"Mushrooms\", \"Onions\"]\n",
    "user_toppings=[]\n",
    "size = input(\"Enter size of pizza \")\n",
    "flavour = input(\"Enter flavour \")\n",
    "\n",
    "flag =True\n",
    "while flag:\n",
    "    topping = input (\"Enter topping \")\n",
    "    if topping ==\"q\":\n",
    "        flag = False\n",
    "    elif topping in available_toppings:\n",
    "        user_toppings.append(topping)\n",
    "    if topping in user_toppings:\n",
    "            print(\"already added\")\n",
    "print (f\"Your order of pizza with size {size} and flavour {flavour} with topping {user_topping}\")"
   ]
  },
  {
   "cell_type": "code",
   "execution_count": 7,
   "metadata": {},
   "outputs": [
    {
     "ename": "IndentationError",
     "evalue": "unindent does not match any outer indentation level (<tokenize>, line 6)",
     "output_type": "error",
     "traceback": [
      "\u001b[1;36m  File \u001b[1;32m\"<tokenize>\"\u001b[1;36m, line \u001b[1;32m6\u001b[0m\n\u001b[1;33m    return \"Number of donuts:\" count\u001b[0m\n\u001b[1;37m    ^\u001b[0m\n\u001b[1;31mIndentationError\u001b[0m\u001b[1;31m:\u001b[0m unindent does not match any outer indentation level\n"
     ]
    }
   ],
   "source": [
    "def donuts(count):\n",
    "    if count<10:\n",
    "        count=count\n",
    "    else:\n",
    "        count= \"many\"\n",
    "  return \"Number of donuts:\" count\n"
   ]
  },
  {
   "cell_type": "code",
   "execution_count": null,
   "metadata": {},
   "outputs": [],
   "source": []
  }
 ],
 "metadata": {
  "kernelspec": {
   "display_name": "Python 3",
   "language": "python",
   "name": "python3"
  },
  "language_info": {
   "codemirror_mode": {
    "name": "ipython",
    "version": 3
   },
   "file_extension": ".py",
   "mimetype": "text/x-python",
   "name": "python",
   "nbconvert_exporter": "python",
   "pygments_lexer": "ipython3",
   "version": "3.7.4"
  }
 },
 "nbformat": 4,
 "nbformat_minor": 2
}
